{
 "cells": [
  {
   "cell_type": "code",
   "execution_count": 12,
   "metadata": {},
   "outputs": [
    {
     "name": "stdout",
     "output_type": "stream",
     "text": [
      "Enter an integer: 24\n",
      "10.0\n"
     ]
    }
   ],
   "source": [
    "def compute(n):\n",
    "    if n < 10:\n",
    "        out = n ** 2\n",
    "    elif n < 20:\n",
    "        out = 1\n",
    "        for i in range(1, n-9):#here i changed 10 t0 9 b/s it clculat for one less value\n",
    "            out *= i\n",
    "    else:\n",
    "        lim = n - 19#here i changed 20 t0 19 b/s it clculat for one less value\n",
    "        out = lim * lim\n",
    "        out = out - lim\n",
    "        out = out / 2 \n",
    "    print(out)\n",
    "n = int(input(\"Enter an integer: \"))\n",
    "compute(n)  "
   ]
  },
  {
   "cell_type": "code",
   "execution_count": 9,
   "metadata": {},
   "outputs": [
    {
     "name": "stdout",
     "output_type": "stream",
     "text": [
      "Enter an integer: 25\n",
      "15.0\n"
     ]
    }
   ],
   "source": [
    "n = int(input(\"Enter an integer: \"))\n",
    "compute(n)"
   ]
  },
  {
   "cell_type": "code",
   "execution_count": null,
   "metadata": {},
   "outputs": [],
   "source": []
  }
 ],
 "metadata": {
  "kernelspec": {
   "display_name": "Python 3",
   "language": "python",
   "name": "python3"
  },
  "language_info": {
   "codemirror_mode": {
    "name": "ipython",
    "version": 3
   },
   "file_extension": ".py",
   "mimetype": "text/x-python",
   "name": "python",
   "nbconvert_exporter": "python",
   "pygments_lexer": "ipython3",
   "version": "3.8.5"
  }
 },
 "nbformat": 4,
 "nbformat_minor": 4
}
